{
 "cells": [
  {
   "cell_type": "code",
   "execution_count": 6,
   "metadata": {},
   "outputs": [
    {
     "name": "stdout",
     "output_type": "stream",
     "text": [
      "Skipping non-empty file: 1.txt\n",
      "Skipping non-empty file: 2.txt\n",
      "Removed empty file: 3.txt\n",
      "Removed empty file: 4.txt\n"
     ]
    }
   ],
   "source": [
    "import os\n",
    "\n",
    "def remove_empty_txt_files(folder_path):\n",
    "    # Get the list of files in the folder\n",
    "    files = os.listdir(folder_path)\n",
    "    \n",
    "    for file_name in files:\n",
    "        if file_name.endswith(\".txt\"):\n",
    "            file_path = os.path.join(folder_path, file_name)\n",
    "            \n",
    "            # Check if the file is empty\n",
    "            if os.path.getsize(file_path) == 0:\n",
    "                try:\n",
    "                    # Attempt to remove the empty file\n",
    "                    os.remove(file_path)\n",
    "                    print(f\"Removed empty file: {file_name}\")\n",
    "                except OSError as e:\n",
    "                    print(f\"Error occurred while removing {file_name}: {e}\")\n",
    "            else:\n",
    "                print(f\"Skipping non-empty file: {file_name}\")\n",
    "\n",
    "# Replace 'folder_path' with the path of the folder containing the .txt files\n",
    "folder_path = r\"C:\\Users\\jen_bim-y\\Desktop\\test txt\"\n",
    "remove_empty_txt_files(folder_path)\n"
   ]
  },
  {
   "cell_type": "code",
   "execution_count": null,
   "metadata": {},
   "outputs": [],
   "source": []
  }
 ],
 "metadata": {
  "kernelspec": {
   "display_name": "bim-y",
   "language": "python",
   "name": "python3"
  },
  "language_info": {
   "codemirror_mode": {
    "name": "ipython",
    "version": 3
   },
   "file_extension": ".py",
   "mimetype": "text/x-python",
   "name": "python",
   "nbconvert_exporter": "python",
   "pygments_lexer": "ipython3",
   "version": "3.8.15"
  },
  "orig_nbformat": 4
 },
 "nbformat": 4,
 "nbformat_minor": 2
}
